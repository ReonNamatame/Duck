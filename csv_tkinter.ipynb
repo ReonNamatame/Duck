{
 "cells": [
  {
   "cell_type": "markdown",
   "metadata": {},
   "source": [
    "# モジュールのインポート"
   ]
  },
  {
   "cell_type": "code",
   "execution_count": 1,
   "metadata": {},
   "outputs": [],
   "source": [
    "#coding: shift_jis\n",
    "import pandas as pd\n",
    "import numpy as np\n",
    "import matplotlib.pyplot as plt\n",
    "\n",
    "import tkinter as tk\n",
    "from tkinter import ttk\n",
    "from matplotlib.backends.backend_tkagg import FigureCanvasTkAgg, NavigationToolbar2Tk\n",
    "from matplotlib.figure import Figure"
   ]
  },
  {
   "cell_type": "markdown",
   "metadata": {},
   "source": [
    "# CSV読み込み"
   ]
  },
  {
   "cell_type": "code",
   "execution_count": 2,
   "metadata": {},
   "outputs": [],
   "source": [
    "df = pd.read_csv(\"c01.csv\",encoding=\"SHIFT-JIS\")"
   ]
  },
  {
   "cell_type": "markdown",
   "metadata": {},
   "source": [
    "# GUIアプリクラス"
   ]
  },
  {
   "cell_type": "code",
   "execution_count": 3,
   "metadata": {},
   "outputs": [],
   "source": [
    "class GUI_Realtime(tk.Frame):\n",
    "    def __init__(self, master=None, df=df):\n",
    "        super().__init__(master)\n",
    "        self.master = master\n",
    "        self.master.title('matplotlib')\n",
    "        self.df = df\n",
    "        self.df_show = self.df[self.df.都道府県名==\"全国\"].reset_index(drop=True)\n",
    "        self.pack()\n",
    "        self.create_widgets()\n",
    "        self.start_up()\n",
    "        self.draw_plot()\n",
    "    \n",
    "    def create_widgets(self):\n",
    "        self.canvas_frame = tk.Frame(self.master)\n",
    "        self.canvas_frame.pack(side=tk.LEFT)\n",
    "        self.control_frame = tk.Frame(self.master)\n",
    "        self.control_frame.pack(side=tk.RIGHT)\n",
    "\n",
    "        self.canvas = FigureCanvasTkAgg(fig, self.canvas_frame)\n",
    "        self.canvas.draw()\n",
    "        self.canvas.get_tk_widget().pack(side=tk.TOP, fill=tk.BOTH, expand=True)\n",
    "\n",
    "        self.toolbar = NavigationToolbar2Tk(self.canvas, self.canvas_frame)\n",
    "        self.toolbar.update()\n",
    "        self.canvas.get_tk_widget().pack(side=tk.TOP, fill=tk.BOTH, expand=True)\n",
    "        \n",
    "        self.x_v = tk.DoubleVar()\n",
    "        self.x_scale = tk.Scale(self.control_frame,\n",
    "            variable=self.x_v,\n",
    "            from_=1920.0,\n",
    "            to=2015.0,\n",
    "            resolution=5,\n",
    "            orient=tk.HORIZONTAL,\n",
    "            command=self.draw_plot)\n",
    "        self.x_scale.pack(anchor=tk.NW)\n",
    "        \n",
    "        # Combobox\n",
    "        self.v1 = tk.StringVar()\n",
    "        self.cb = ttk.Combobox(self.control_frame, textvariable=self.v1)\n",
    "        self.cb.bind('<<ComboboxSelected>>', self.cb_selected)\n",
    "\n",
    "        self.cb['values']=('全国', '北海道', '青森県', '岩手県', '宮城県', '秋田県', '山形県', '福島県', '茨城県', '栃木県', '群馬県', '埼玉県', '千葉県', '東京都', '神奈川県', '新潟県', '富山県', '石川県', '福井県', '山梨県', '長野県', '岐阜県', '静岡県', '愛知県', '三重県', '滋賀県', '京都府', '大阪府', '兵庫県', '奈良県', '和歌山県', '鳥取県', '島根県', '岡山県', '広島県', '山口県', '徳島県', '香川県', '愛媛県', '高知県', '福岡県', '佐賀県', '長崎県', '熊本県', '大分県', '宮崎県', '鹿児島県', '沖縄県')\n",
    "        self.cb.pack(anchor=tk.NW)\n",
    "\n",
    "    def start_up(self):\n",
    "        self.x_v.set(1920.0)\n",
    "        self.cb.set(\"全国\")\n",
    "        \n",
    "    def cb_selected(self, event):\n",
    "        print(self.v1.get())\n",
    "\n",
    "    def draw_plot(self, event=None):\n",
    "        index = int((self.x_v.get() - 1920)/5)\n",
    "        self.df_show = self.df[self.df.都道府県名==self.cb.get()].reset_index(drop=True)\n",
    "\n",
    "        ax1.cla()\n",
    "        self.x = pd.Series(self.df_show[\"西暦（年）\"], dtype=np.float64).reset_index(drop=True)\n",
    "        self.y = [pd.Series(self.df_show[\"人口（総数）\"], dtype=np.float64).reset_index(drop=True),\n",
    "                 pd.Series(self.df_show[\"人口（男）\"], dtype=np.float64).reset_index(drop=True),\n",
    "                 pd.Series(self.df_show[\"人口（女）\"], dtype=np.float64).reset_index(drop=True)]\n",
    "        self.y_t = [pd.Series(self.df_show[\"人口（総数）\"]).reset_index(drop=True),\n",
    "                 pd.Series(self.df_show[\"人口（男）\"]).reset_index(drop=True),\n",
    "                 pd.Series(self.df_show[\"人口（女）\"]).reset_index(drop=True)]\n",
    "\n",
    "        ax1.set_ylim(0, max(self.y[0])*1.2)\n",
    "        ax1.set_xlim(min(self.x)*0.999,max(self.x)*1.001)\n",
    "        \n",
    "        ax1.plot(self.x[:index+1],self.y[0][:index+1], label=\"population total\", marker=\"o\", color = \"blue\")\n",
    "        ax1.plot(self.x[:index+1],self.y[1][:index+1], label=\"population girl\", marker=\"o\", color = \"red\")\n",
    "        ax1.plot(self.x[:index+1],self.y[2][:index+1], label=\"population boy\", marker=\"o\", color = \"green\")\n",
    "\n",
    "        for x, y, text, y_boy, text_boy, y_girl, text_girl in zip(self.x[:index+1], self.y[0][:index+1], self.y_t[0][:index+1], self.y[1][:index+1], self.y_t[1][:index+1], self.y[2][:index+1], self.y_t[2][:index+1]):\n",
    "            ax1.text(x-2, y*1.05, '{:.1f}M'.format(float(int(text)/1000000.0)), color = \"blue\")\n",
    "            ax1.text(x-2, y_boy*1.05, '{:.1f}M'.format(float(int(text_boy)/1000000.0)), color = \"red\")\n",
    "            ax1.text(x-2, y_girl*1.05, '{:.1f}M'.format(float(int(text_girl)/1000000.0)), color = \"green\")\n",
    "        self.canvas.draw()"
   ]
  },
  {
   "cell_type": "markdown",
   "metadata": {},
   "source": [
    "# GUIアプリの起動"
   ]
  },
  {
   "cell_type": "code",
   "execution_count": 4,
   "metadata": {},
   "outputs": [],
   "source": [
    "fig = Figure(figsize=(10, 10), dpi=100)\n",
    "ax1 = fig.add_subplot(111)\n",
    "root = tk.Tk()\n",
    "app = GUI_Realtime(master=root, df=df)\n",
    "app.mainloop()"
   ]
  },
  {
   "cell_type": "code",
   "execution_count": null,
   "metadata": {},
   "outputs": [],
   "source": []
  }
 ],
 "metadata": {
  "kernelspec": {
   "display_name": "Python 3",
   "language": "python",
   "name": "python3"
  },
  "language_info": {
   "codemirror_mode": {
    "name": "ipython",
    "version": 3
   },
   "file_extension": ".py",
   "mimetype": "text/x-python",
   "name": "python",
   "nbconvert_exporter": "python",
   "pygments_lexer": "ipython3",
   "version": "3.7.3"
  }
 },
 "nbformat": 4,
 "nbformat_minor": 2
}
